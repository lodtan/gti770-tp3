{
 "cells": [
  {
   "cell_type": "code",
   "execution_count": 14,
   "metadata": {},
   "outputs": [],
   "source": [
    "import numpy as np\n",
    "import tensorflow as tf\n",
    "import cv2\n",
    "import matplotlib.pyplot as plt\n",
    "from sklearn.model_selection import train_test_split, cross_val_score\n",
    "import csv\n",
    "import pandas as pd\n",
    "from sklearn.model_selection import GridSearchCV\n",
    "from IPython.display import Markdown\n",
    "from tensorflow import keras\n",
    "from sklearn import svm\n",
    "from sklearn.model_selection import StratifiedShuffleSplit\n",
    "from time import time\n",
    "from sklearn.preprocessing import normalize\n",
    "from tensorflow.keras.optimizers import SGD\n",
    "from tensorflow.keras import layers\n",
    "from tensorflow.keras.layers import BatchNormalization\n",
    "from tensorflow.keras.layers import Dropout\n",
    "from sklearn.preprocessing import StandardScaler\n",
    "from sklearn.metrics import accuracy_score, f1_score"
   ]
  },
  {
   "cell_type": "code",
   "execution_count": 9,
   "metadata": {},
   "outputs": [],
   "source": [
    "feature_vectors = pd.read_csv('galaxy_feature_vectors.csv', delimiter = ',', header=None)\n",
    "labels = pd.read_csv('galaxy_label_data_set.csv', delimiter = ',')\n",
    "X_galaxy = pd.read_csv('galaxy_feature_vectors.csv', delimiter = ',', header=None).values[:,0:-1]\n",
    "Y_galaxy = pd.read_csv('galaxy_feature_vectors.csv', delimiter = ',', header=None).values[:,-1:].astype(int).flatten()\n",
    "Xg_train, Xg_test, Yg_train, Yg_test = train_test_split(X_galaxy, Y_galaxy, test_size=0.20, random_state=42, stratify=Y_galaxy)\n",
    "\n",
    "# On normalise nos features\n",
    "scaler = StandardScaler()\n",
    "Xg_train = scaler.fit_transform(Xg_train)\n",
    "Xg_test = scaler.fit_transform(Xg_test)"
   ]
  },
  {
   "cell_type": "code",
   "execution_count": 10,
   "metadata": {},
   "outputs": [],
   "source": [
    "# Création d'array pour stocker l'accuracy et le score f1 pour les différents nombres d'itération\n",
    "accuracies = []\n",
    "f1_scores = []\n"
   ]
  },
  {
   "cell_type": "code",
   "execution_count": 39,
   "metadata": {},
   "outputs": [],
   "source": [
    "accuracies_npercep = []\n",
    "f1_scores_npercep = []"
   ]
  },
  {
   "cell_type": "code",
   "execution_count": 68,
   "metadata": {},
   "outputs": [],
   "source": [
    "accuracies_layers = []\n",
    "f1_scores_layers = []\n",
    "accuracies_learning = []\n",
    "f1_scores_learning = []"
   ]
  },
  {
   "cell_type": "code",
   "execution_count": 105,
   "metadata": {},
   "outputs": [],
   "source": [
    "\"\"\"\n",
    "# Parameters\n",
    "learning_rate = 0.0005\n",
    "n_epochs = 60\n",
    "batch = 100\n",
    "\n",
    "# Network Parameters\n",
    "n_hidden_1 = 100 # 1st layer number of neurons\n",
    "n_hidden_2 = 100 # 2nd layer number of neurons\n",
    "n_hidden_3 = 50 # 3rd layer number of neurons\n",
    "n_hidden_4 = 2 # 3rd layer number of neurons\n",
    "num_input = 75\n",
    "num_classes = 2\n",
    "\"\"\"\n",
    "batch = 100\n",
    "\n",
    "learning_rate = 0.0005\n",
    "n_epochs = 60\n",
    "n_hidden_1 = 100 # 1st layer number of neurons\n",
    "n_hidden_2 = 100 # 2nd layer number of neurons\n",
    "n_hidden_3 = 50 # 3rd layer number of neurons\n",
    "n_hidden_4 = 2 # 4th layer number of neurons\n",
    "num_input = 75\n",
    "num_classes = 2\n"
   ]
  },
  {
   "cell_type": "code",
   "execution_count": 111,
   "metadata": {},
   "outputs": [],
   "source": [
    "# nombre d’itérations (epochs)\n",
    "#n_epochs = 400\n",
    "learning_rate = 3\n"
   ]
  },
  {
   "cell_type": "code",
   "execution_count": 112,
   "metadata": {},
   "outputs": [],
   "source": [
    "model = keras.Sequential()\n",
    "model.add(layers.Dense(n_hidden_1))\n",
    "model.add(layers.Activation('relu'))\n",
    "model.add(BatchNormalization())\n",
    "#model.add(Dropout(0.2))\n",
    "\n",
    "model.add(layers.Dense(n_hidden_2))\n",
    "model.add(layers.Activation('relu'))\n",
    "model.add(BatchNormalization())\n",
    "#model.add(Dropout(0.2))\n",
    "\n",
    "model.add(layers.Dense(num_classes, activation='softmax'))\n",
    "\n",
    "\n",
    "\n",
    "model.compile(optimizer=tf.train.GradientDescentOptimizer(learning_rate),\n",
    "              loss='sparse_categorical_crossentropy',\n",
    "              metrics=['accuracy'])"
   ]
  },
  {
   "cell_type": "code",
   "execution_count": 113,
   "metadata": {},
   "outputs": [
    {
     "name": "stdout",
     "output_type": "stream",
     "text": [
      "Train on 13526 samples, validate on 3382 samples\n",
      "Epoch 1/60\n",
      "13526/13526 [==============================] - 2s 172us/step - loss: 0.5395 - acc: 0.8961 - val_loss: 0.1539 - val_acc: 0.9456\n",
      "Epoch 2/60\n",
      "13526/13526 [==============================] - 2s 123us/step - loss: 0.1512 - acc: 0.9444 - val_loss: 0.1516 - val_acc: 0.9435\n",
      "Epoch 3/60\n",
      "13526/13526 [==============================] - 2s 116us/step - loss: 0.1425 - acc: 0.9453 - val_loss: 0.1473 - val_acc: 0.9453\n",
      "Epoch 4/60\n",
      "13526/13526 [==============================] - 2s 120us/step - loss: 0.1316 - acc: 0.9499 - val_loss: 0.1222 - val_acc: 0.9551\n",
      "Epoch 5/60\n",
      "13526/13526 [==============================] - 2s 120us/step - loss: 0.1257 - acc: 0.9518 - val_loss: 0.9328 - val_acc: 0.5724\n",
      "Epoch 6/60\n",
      "13526/13526 [==============================] - 2s 127us/step - loss: 0.1546 - acc: 0.9446 - val_loss: 0.1810 - val_acc: 0.9293\n",
      "Epoch 7/60\n",
      "13526/13526 [==============================] - 2s 122us/step - loss: 0.1133 - acc: 0.9582 - val_loss: 0.1603 - val_acc: 0.9441\n",
      "Epoch 8/60\n",
      "13526/13526 [==============================] - 2s 116us/step - loss: 0.1076 - acc: 0.9593 - val_loss: 0.0975 - val_acc: 0.9654\n",
      "Epoch 9/60\n",
      "13526/13526 [==============================] - 2s 115us/step - loss: 0.1142 - acc: 0.9555 - val_loss: 0.2116 - val_acc: 0.9101\n",
      "Epoch 10/60\n",
      "13526/13526 [==============================] - 2s 118us/step - loss: 0.1107 - acc: 0.9582 - val_loss: 0.5218 - val_acc: 0.8223\n",
      "Epoch 11/60\n",
      "13526/13526 [==============================] - 2s 119us/step - loss: 0.1150 - acc: 0.9556 - val_loss: 0.1505 - val_acc: 0.9483\n",
      "Epoch 12/60\n",
      "13526/13526 [==============================] - 2s 127us/step - loss: 0.1029 - acc: 0.9622 - val_loss: 0.1393 - val_acc: 0.9465\n",
      "Epoch 13/60\n",
      "13526/13526 [==============================] - 2s 127us/step - loss: 0.0972 - acc: 0.9630 - val_loss: 0.1202 - val_acc: 0.9554\n",
      "Epoch 14/60\n",
      "13526/13526 [==============================] - 2s 129us/step - loss: 0.0994 - acc: 0.9642 - val_loss: 0.1261 - val_acc: 0.9548\n",
      "Epoch 15/60\n",
      "13526/13526 [==============================] - 2s 127us/step - loss: 0.1002 - acc: 0.9619 - val_loss: 0.2627 - val_acc: 0.8989\n",
      "Epoch 16/60\n",
      "13526/13526 [==============================] - 2s 135us/step - loss: 0.0941 - acc: 0.9641 - val_loss: 0.1044 - val_acc: 0.9592\n",
      "Epoch 17/60\n",
      "13526/13526 [==============================] - 2s 132us/step - loss: 0.0931 - acc: 0.9645 - val_loss: 0.1100 - val_acc: 0.9616\n",
      "Epoch 18/60\n",
      "13526/13526 [==============================] - 2s 139us/step - loss: 0.0892 - acc: 0.9657 - val_loss: 0.2785 - val_acc: 0.9033\n",
      "Epoch 19/60\n",
      "13526/13526 [==============================] - 2s 128us/step - loss: 0.0890 - acc: 0.9660 - val_loss: 0.5060 - val_acc: 0.8714\n",
      "Epoch 20/60\n",
      "13526/13526 [==============================] - 2s 134us/step - loss: 0.0905 - acc: 0.9672 - val_loss: 0.0934 - val_acc: 0.9654\n",
      "Epoch 21/60\n",
      "13526/13526 [==============================] - 2s 139us/step - loss: 0.0876 - acc: 0.9671 - val_loss: 0.1056 - val_acc: 0.9657\n",
      "Epoch 22/60\n",
      "13526/13526 [==============================] - 2s 135us/step - loss: 0.0831 - acc: 0.9678 - val_loss: 0.1282 - val_acc: 0.9580\n",
      "Epoch 23/60\n",
      "13526/13526 [==============================] - 2s 145us/step - loss: 0.0820 - acc: 0.9687 - val_loss: 0.0903 - val_acc: 0.9687\n",
      "Epoch 24/60\n",
      "13526/13526 [==============================] - 2s 134us/step - loss: 0.0863 - acc: 0.9670 - val_loss: 0.1086 - val_acc: 0.9648\n",
      "Epoch 25/60\n",
      "13526/13526 [==============================] - 2s 134us/step - loss: 0.0822 - acc: 0.9686 - val_loss: 0.1645 - val_acc: 0.9429\n",
      "Epoch 26/60\n",
      "13526/13526 [==============================] - 2s 131us/step - loss: 0.0776 - acc: 0.9694 - val_loss: 0.1483 - val_acc: 0.9494\n",
      "Epoch 27/60\n",
      "13526/13526 [==============================] - 2s 129us/step - loss: 0.0779 - acc: 0.9700 - val_loss: 0.2254 - val_acc: 0.9219\n",
      "Epoch 28/60\n",
      "13526/13526 [==============================] - 2s 132us/step - loss: 0.0805 - acc: 0.9691 - val_loss: 0.0952 - val_acc: 0.9695\n",
      "Epoch 29/60\n",
      "13526/13526 [==============================] - 2s 136us/step - loss: 0.0769 - acc: 0.9706 - val_loss: 0.2718 - val_acc: 0.9270\n",
      "Epoch 30/60\n",
      "13526/13526 [==============================] - 2s 137us/step - loss: 0.0800 - acc: 0.9678 - val_loss: 0.3844 - val_acc: 0.9086\n",
      "Epoch 31/60\n",
      "13526/13526 [==============================] - 2s 129us/step - loss: 0.0752 - acc: 0.9706 - val_loss: 0.0976 - val_acc: 0.9675\n",
      "Epoch 32/60\n",
      "13526/13526 [==============================] - 2s 129us/step - loss: 0.0776 - acc: 0.9692 - val_loss: 0.1561 - val_acc: 0.9509\n",
      "Epoch 33/60\n",
      "13526/13526 [==============================] - 2s 137us/step - loss: 0.0761 - acc: 0.9708 - val_loss: 0.0995 - val_acc: 0.9666\n",
      "Epoch 34/60\n",
      "13526/13526 [==============================] - 2s 146us/step - loss: 0.0734 - acc: 0.9721 - val_loss: 0.1385 - val_acc: 0.9530\n",
      "Epoch 35/60\n",
      "13526/13526 [==============================] - 2s 131us/step - loss: 0.0709 - acc: 0.9740 - val_loss: 0.0975 - val_acc: 0.9704\n",
      "Epoch 36/60\n",
      "13526/13526 [==============================] - 2s 133us/step - loss: 0.0707 - acc: 0.9728 - val_loss: 0.1355 - val_acc: 0.9642\n",
      "Epoch 37/60\n",
      "13526/13526 [==============================] - 2s 133us/step - loss: 0.0746 - acc: 0.9714 - val_loss: 0.2625 - val_acc: 0.9181\n",
      "Epoch 38/60\n",
      "13526/13526 [==============================] - 2s 142us/step - loss: 0.0741 - acc: 0.9723 - val_loss: 0.1039 - val_acc: 0.9698\n",
      "Epoch 39/60\n",
      "13526/13526 [==============================] - 2s 129us/step - loss: 0.0683 - acc: 0.9751 - val_loss: 0.0873 - val_acc: 0.9695\n",
      "Epoch 40/60\n",
      "13526/13526 [==============================] - 2s 128us/step - loss: 0.0667 - acc: 0.9748 - val_loss: 0.2345 - val_acc: 0.9169\n",
      "Epoch 41/60\n",
      "13526/13526 [==============================] - 2s 133us/step - loss: 0.0656 - acc: 0.9761 - val_loss: 0.1256 - val_acc: 0.9607\n",
      "Epoch 42/60\n",
      "13526/13526 [==============================] - 2s 139us/step - loss: 0.0707 - acc: 0.9730 - val_loss: 0.1378 - val_acc: 0.9604\n",
      "Epoch 43/60\n",
      "13526/13526 [==============================] - 2s 141us/step - loss: 0.0693 - acc: 0.9731 - val_loss: 0.1156 - val_acc: 0.9648\n",
      "Epoch 44/60\n",
      "13526/13526 [==============================] - 2s 155us/step - loss: 0.0616 - acc: 0.9766 - val_loss: 0.1065 - val_acc: 0.9675\n",
      "Epoch 45/60\n",
      "13526/13526 [==============================] - 2s 141us/step - loss: 0.0631 - acc: 0.9759 - val_loss: 0.1167 - val_acc: 0.9630\n",
      "Epoch 46/60\n",
      "13526/13526 [==============================] - 2s 138us/step - loss: 0.0623 - acc: 0.9751 - val_loss: 0.1021 - val_acc: 0.9684\n",
      "Epoch 47/60\n",
      "13526/13526 [==============================] - 2s 139us/step - loss: 0.0614 - acc: 0.9773 - val_loss: 0.2509 - val_acc: 0.9329\n",
      "Epoch 48/60\n",
      "13526/13526 [==============================] - 2s 135us/step - loss: 0.0644 - acc: 0.9760 - val_loss: 0.1006 - val_acc: 0.9672\n",
      "Epoch 49/60\n",
      "13526/13526 [==============================] - 2s 149us/step - loss: 0.0623 - acc: 0.9766 - val_loss: 0.1189 - val_acc: 0.9645\n",
      "Epoch 50/60\n",
      "13526/13526 [==============================] - 2s 140us/step - loss: 0.0593 - acc: 0.9766 - val_loss: 0.0986 - val_acc: 0.9728\n",
      "Epoch 51/60\n",
      "13526/13526 [==============================] - 2s 137us/step - loss: 0.0572 - acc: 0.9789 - val_loss: 0.1521 - val_acc: 0.9551\n",
      "Epoch 52/60\n",
      "13526/13526 [==============================] - 2s 140us/step - loss: 0.0593 - acc: 0.9775 - val_loss: 0.1943 - val_acc: 0.9459\n",
      "Epoch 53/60\n",
      "13526/13526 [==============================] - 2s 144us/step - loss: 0.0660 - acc: 0.9753 - val_loss: 0.2739 - val_acc: 0.9151\n",
      "Epoch 54/60\n",
      "13526/13526 [==============================] - 2s 134us/step - loss: 0.0577 - acc: 0.9799 - val_loss: 0.1700 - val_acc: 0.9542\n",
      "Epoch 55/60\n",
      "13526/13526 [==============================] - 2s 134us/step - loss: 0.0614 - acc: 0.9771 - val_loss: 0.1155 - val_acc: 0.9672\n",
      "Epoch 56/60\n",
      "13526/13526 [==============================] - 2s 138us/step - loss: 0.0586 - acc: 0.9777 - val_loss: 0.2408 - val_acc: 0.9237\n",
      "Epoch 57/60\n",
      "13526/13526 [==============================] - 2s 134us/step - loss: 0.0585 - acc: 0.9777 - val_loss: 0.1151 - val_acc: 0.9684\n",
      "Epoch 58/60\n",
      "13526/13526 [==============================] - 2s 131us/step - loss: 0.0534 - acc: 0.9802 - val_loss: 0.2115 - val_acc: 0.9471\n",
      "Epoch 59/60\n"
     ]
    },
    {
     "name": "stdout",
     "output_type": "stream",
     "text": [
      "13526/13526 [==============================] - 2s 127us/step - loss: 0.0555 - acc: 0.9795 - val_loss: 0.1835 - val_acc: 0.9548\n",
      "Epoch 60/60\n",
      "13526/13526 [==============================] - 2s 137us/step - loss: 0.0661 - acc: 0.9752 - val_loss: 0.3223 - val_acc: 0.9119\n"
     ]
    },
    {
     "data": {
      "text/plain": [
       "'\\ntensorboard --logdir path_to_current_dir/Graph \\n'"
      ]
     },
     "execution_count": 113,
     "metadata": {},
     "output_type": "execute_result"
    }
   ],
   "source": [
    "tensorboard = keras.callbacks.TensorBoard(log_dir='no_dropout/learning_3', batch_size=batch, histogram_freq=0, write_graph=True, write_images=True)\n",
    "\n",
    "model.fit(Xg_train, Yg_train, epochs=n_epochs, batch_size=batch, validation_data=(Xg_test, Yg_test),\n",
    "          callbacks=[tensorboard])\n",
    "\n",
    "\n",
    "\"\"\"\n",
    "tensorboard --logdir path_to_current_dir/Graph \n",
    "\"\"\"\n",
    "\n"
   ]
  },
  {
   "cell_type": "code",
   "execution_count": 114,
   "metadata": {},
   "outputs": [
    {
     "name": "stdout",
     "output_type": "stream",
     "text": [
      "3382/3382 [==============================] - 0s 83us/step\n",
      "Test accuracy: 0.9118864576115825\n"
     ]
    }
   ],
   "source": [
    "test_loss, test_acc = model.evaluate(Xg_test, Yg_test)\n",
    "\n",
    "print('Test accuracy:', test_acc) \n",
    "accuracies_learning.append(test_acc)"
   ]
  },
  {
   "cell_type": "code",
   "execution_count": 115,
   "metadata": {},
   "outputs": [
    {
     "name": "stdout",
     "output_type": "stream",
     "text": [
      "[[1.6667780e-12 1.0000000e+00]\n",
      " [9.9999940e-01 5.7977218e-07]\n",
      " [9.9999988e-01 8.8655788e-08]\n",
      " ...\n",
      " [1.0000000e+00 1.8156436e-10]\n",
      " [4.6510203e-04 9.9953496e-01]\n",
      " [9.3543941e-01 6.4560644e-02]]\n",
      "f1 score: 0.9116155733993972\n"
     ]
    }
   ],
   "source": [
    "predictions = model.predict(Xg_test)\n",
    "print(predictions)\n",
    "Yg_pred = model.predict_classes(Xg_test)\n",
    "    \n",
    "f1 = f1_score(Yg_test, Yg_pred, average='weighted')\n",
    "print(\"f1 score: {}\".format(f1))\n",
    "f1_scores_learning.append(f1)"
   ]
  },
  {
   "cell_type": "code",
   "execution_count": 33,
   "metadata": {},
   "outputs": [
    {
     "data": {
      "text/plain": [
       "[0.9517932604948441, 0.9577138280605294, 0.963626117614296]"
      ]
     },
     "execution_count": 33,
     "metadata": {},
     "output_type": "execute_result"
    }
   ],
   "source": [
    "f1_scores"
   ]
  },
  {
   "cell_type": "markdown",
   "metadata": {},
   "source": [
    "# 1 : Init (base)\n",
    "Nombre de perceptrons dans la\n",
    "couche cachée (hidden layer)\n",
    "100, 100, 2\n",
    "Nombre d’itérations (epochs) 60\n",
    "Taux d’apprentissage (learning\n",
    "rate)\n",
    "0.0005\n",
    "Batch size 100\n",
    "\n",
    "## Results : loss: 0.2496 - acc: 0.9063 - val_loss: 0.1959 - val_acc: 0.9370\n",
    "\n",
    "\n",
    "\n",
    "# 2\n",
    "## Parameters\n",
    "learning_rate = 0.0005\n",
    "n_epochs = 50\n",
    "\n",
    "## Network Parameters\n",
    "n_hidden_1 = 60 # 1st layer number of neurons\n",
    "n_hidden_2 = 30 # 2nd layer number of neurons\n",
    "num_classes = 2\n",
    "## Results : loss: 0.3018 - acc: 0.8822 - val_loss: 0.2372 - val_acc: 0.9178\n",
    "\n",
    "\n",
    "\n",
    "# Faire varier les paramètres : (12 modèles différents)\n",
    "\n",
    "## Le nombre d’itérations (epochs)\n",
    "### 100\n",
    "loss: 0.2116 - acc: 0.9204 - val_loss: 0.1544 - val_acc: 0.9503\n",
    "\n",
    "### 200\n",
    "loss: 0.1927 - acc: 0.9283 - val_loss: 0.1426 - val_acc: 0.9548\n",
    "\n",
    "### 400 LOL\n",
    "loss: 0.1391 - acc: 0.9472 - val_loss: 0.1100 - val_acc: 0.9622\n",
    "\n",
    "### 600\n",
    "loss: 0.1231 - acc: 0.9547 - val_loss: 0.1086 - val_acc: 0.9651\n",
    "\n",
    "\n",
    "## Le nombre de perceptrons dans ces couches intermédiaires\n",
    "\n",
    "### 100, 50\n",
    "loss: 0.2153 - acc: 0.9166 - val_loss: 0.1691 - val_acc: 0.9385\n",
    "\n",
    "### 50, 100\n",
    "loss: 0.2213 - acc: 0.9176 - val_loss: 0.1586 - val_acc: 0.9447\n",
    "\n",
    "### 200, 25\n",
    "loss: 0.2022 - acc: 0.9233 - val_loss: 0.1646 - val_acc: 0.9450\n",
    "\n",
    "### 50, 25\n",
    "loss: 0.2784 - acc: 0.8918 - val_loss: 0.2254 - val_acc: 0.9199\n",
    "\n",
    "## Le nombre de couches\n",
    "### 3 couches cachées\n",
    "\n",
    "loss: 0.2121 - acc: 0.9194 - val_loss: 0.1641 - val_acc: 0.9420\n",
    "#### dropout 0.5 pour chaque couche\n",
    "loss: 0.3504 - acc: 0.8592 - val_loss: 0.2258 - val_acc: 0.9222\n",
    "#### dropout 0.3 pour chaque couche\n",
    "loss: 0.2661 - acc: 0.8988 - val_loss: 0.1846 - val_acc: 0.9320\n",
    "\n",
    "### 4 couches cachées\n",
    "loss: 0.2393 - acc: 0.9094 - val_loss: 0.1699 - val_acc: 0.9420\n",
    "\n",
    "### 5 couches cachées\n",
    "loss: 0.2579 - acc: 0.8981 - val_loss: 0.1821 - val_acc: 0.9323\n",
    "\n",
    "## Le taux d’apprentissage (learning rate)\n",
    "### 3\n",
    "loss: 0.1061 - acc: 0.9607 - val_loss: 0.0942 - val_acc: 0.9663  \n",
    "#### bis\n",
    "loss: 0.0913 - acc: 0.9636 - val_loss: 0.1049 - val_acc: 0.9633\n",
    "\n",
    "### 0.1\n",
    "loss: 0.0961 - acc: 0.9649 - val_loss: 0.0869 - val_acc: 0.9687\n",
    "\n",
    "### 0.000001\n",
    "loss: 1.2686 - acc: 0.4354 - val_loss: 1.1457 - val_acc: 0.4243\n"
   ]
  },
  {
   "cell_type": "markdown",
   "metadata": {},
   "source": [
    "# Sans dropout et avec F1 score\n",
    "\n",
    "## Le nombre d’itérations (epochs)\n",
    "### 100\n",
    "loss: 0.1384 - acc: 0.9473 - val_loss: 0.1387 - val_acc: 0.9518\n",
    "Test accuracy: 0.9518036663638002\n",
    "f1 score : 0.9517932604948441\n",
    "\n",
    "### 200\n",
    "loss: 0.1134 - acc: 0.9590 - val_loss: 0.1213 - val_acc: 0.9577\n",
    "Test accuracy: 0.9577173269196843\n",
    "f1 score :0.9577138280605294\n",
    "\n",
    "### 400 \n",
    "loss: 0.0955 - acc: 0.9650 - val_loss: 0.1093 - val_acc: 0.9636\n",
    "Test accuracy: 0.9636309874755683\n",
    "f1 score :0.963626117614296\n",
    "\n",
    "### 600\n",
    "\n",
    "## Le nombre de perceptrons dans ces couches intermédiaires\n",
    "\n",
    "### 100, 50\n",
    "loss: 0.1675 - acc: 0.9382 - val_loss: 0.1640 - val_acc: 0.9527  \n",
    "Test accuracy: 0.9526907155529273  \n",
    "f1 score: 0.9526907155529273\n",
    "\n",
    "### 50, 100\n",
    "loss: 0.1722 - acc: 0.9372 - val_loss: 0.1792 - val_acc: 0.9409  \n",
    "Test accuracy: 0.9408633943354145  \n",
    "f1 score: 0.9408263855468233\n",
    "\n",
    "### 200, 25\n",
    "loss: 0.1579 - acc: 0.9422 - val_loss: 0.1629 - val_acc: 0.9438  \n",
    "Test accuracy: 0.9438202247191011  \n",
    "f1 score: 0.9438398613167942\n",
    "\n",
    "### 50, 25\n",
    "loss: 0.1777 - acc: 0.9333 - val_loss: 0.1861 - val_acc: 0.9400  \n",
    "Test accuracy: 0.939976345252032  \n",
    "f1 score: 0.9399831073373335\n",
    "\n",
    "## Le nombre de couches\n",
    "### 3 couches cachées\n",
    "loss: 0.1513 - acc: 0.9424 - val_loss: 0.1448 - val_acc: 0.9503  \n",
    "Test accuracy: 0.9503252512248291  \n",
    "f1 score: 0.9503152269164241\n",
    "\n",
    "### 4 couches cachées\n",
    "loss: 0.1437 - acc: 0.9451 - val_loss: 0.1497 - val_acc: 0.9471  \n",
    "Test accuracy: 0.9470727379190929  \n",
    "f1 score: 0.9470733265279817\n",
    "\n",
    "\n",
    "### 5 couches cachées\n",
    "loss: 0.1470 - acc: 0.9426 - val_loss: 0.1617 - val_acc: 0.9432  \n",
    "Test accuracy: 0.9432288586635127  \n",
    "f1 score: 0.9432071322488779\n",
    "\n",
    "## Le taux d’apprentissage (learning rate)\n",
    "### 3\n",
    "loss: 0.0661 - acc: 0.9752 - val_loss: 0.3223 - val_acc: 0.9119  \n",
    "Test accuracy: 0.9118864576115825  \n",
    "f1 score: 0.9116155733993972\n",
    "\n",
    "### 0.1\n",
    "loss: 0.0232 - acc: 0.9905 - val_loss: 0.1833 - val_acc: 0.9539  \n",
    "Test accuracy: 0.9538734475583596  \n",
    "f1 score: 0.9538392862815737\n",
    "\n",
    "### 0.000001\n",
    "loss: 0.9533 - acc: 0.5129 - val_loss: 0.9114 - val_acc: 0.5269  \n",
    "Test accuracy: 0.5269071556702652  \n",
    "f1 score: 0.5270565773067073"
   ]
  },
  {
   "cell_type": "code",
   "execution_count": null,
   "metadata": {},
   "outputs": [],
   "source": [
    "H = model.fit(Xg_train, Yg_train, epochs=n_epochs, batch_size=batch, validation_data=(Xg_test, Yg_test))\n",
    "\n",
    "# plot the training loss and accuracy\n",
    "plt.style.use(\"ggplot\")\n",
    "plt.figure()\n",
    "N = n_epochs\n",
    "plt.plot(np.arange(0, N), H.history[\"loss\"], label=\"train_loss\")\n",
    "plt.plot(np.arange(0, N), H.history[\"val_loss\"], label=\"val_loss\")\n",
    "plt.plot(np.arange(0, N), H.history[\"acc\"], label=\"train_acc\")\n",
    "plt.plot(np.arange(0, N), H.history[\"val_acc\"], label=\"val_acc\")\n",
    "plt.title(\"Training Loss and Accuracy on Smooth/Spiral\")\n",
    "plt.xlabel(\"Epoch #\")\n",
    "plt.ylabel(\"Loss/Accuracy\")\n",
    "plt.legend(loc=\"lower left\")\n",
    "plt.savefig(\"search_overfit.png\")"
   ]
  },
  {
   "cell_type": "code",
   "execution_count": 150,
   "metadata": {},
   "outputs": [
    {
     "data": {
      "image/png": "[encoded data removed]",
      "text/plain": [
       "<Figure size 432x288 with 1 Axes>"
      ]
     },
     "metadata": {
      "needs_background": "light"
     },
     "output_type": "display_data"
    },
    {
     "data": {
      "image/png": "[encoded data removed]",
      "text/plain": [
       "<Figure size 432x288 with 1 Axes>"
      ]
     },
     "metadata": {
      "needs_background": "light"
     },
     "output_type": "display_data"
    },
    {
     "data": {
      "image/png": "[encoded data removed]",
      "text/plain": [
       "<Figure size 432x288 with 1 Axes>"
      ]
     },
     "metadata": {
      "needs_background": "light"
     },
     "output_type": "display_data"
    }
   ],
   "source": [
    "def subcategorybar(X, names, vals, width=0.8):\n",
    "    n = len(vals)\n",
    "    _X = np.arange(len(X))\n",
    "    for i in range(n):\n",
    "        plt.bar(_X - width/2. + i/float(n)*width, vals[i], \n",
    "                width=width/float(n), align=\"edge\", label=names[i])   \n",
    "    plt.xticks(_X, X)\n",
    "\n",
    "x = ['100', '200', '400']\n",
    "names = [\"accuracy\", \"f1 score\"]\n",
    "\n",
    "subcategorybar(x, names, [accuracies, f1_scores])\n",
    "axes = plt.gca()\n",
    "axes.set_ylim([0.8,1])\n",
    "plt.title(\"Accuracy and F1 Score by number of epochs\")\n",
    "plt.xlabel(\"Epoch #\")\n",
    "plt.ylabel(\"Accuracy, F1 score\")\n",
    "plt.legend()\n",
    "plt.show()\n",
    "\n",
    "x = [3, 4, 5]\n",
    "subcategorybar(x, names, [accuracies_layers, f1_scores_layers])\n",
    "axes = plt.gca()\n",
    "axes.set_ylim([0.8,1])\n",
    "plt.title(\"Accuracy and F1 Score by number of layers\")\n",
    "plt.xlabel(\"Number of layers\")\n",
    "plt.ylabel(\"Accuracy, F1 score\")\n",
    "plt.legend()\n",
    "plt.show()\n",
    "\n",
    "x = [0.1, 1E-6, 3]\n",
    "subcategorybar(x, names, [accuracies_learning, f1_scores_learning])\n",
    "axes = plt.gca()\n",
    "axes.set_ylim([0.5,1])\n",
    "plt.title(\"Accuracy and F1 Score by learning rate\")\n",
    "plt.xlabel(\"Learning rate\")\n",
    "plt.ylabel(\"Accuracy, F1 score\")\n",
    "plt.legend()\n",
    "plt.show()\n",
    "\n",
    "x = [\"100-50\", \"50-100\", \"\"]\n",
    "subcategorybar(x, names, [accuracies_npercep, f1_scores_npercep])\n",
    "axes = plt.gca()\n",
    "axes.set_ylim([0.5,1])\n",
    "plt.title(\"Accuracy and F1 Score by learning rate\")\n",
    "plt.xlabel(\"Learning rate\")\n",
    "plt.ylabel(\"Accuracy, F1 score\")\n",
    "plt.legend()\n",
    "plt.show()"
   ]
  },
  {
   "cell_type": "code",
   "execution_count": null,
   "metadata": {},
   "outputs": [],
   "source": []
  }
 ],
 "metadata": {
  "kernelspec": {
   "display_name": "Python [conda env:gti770_env]",
   "language": "python",
   "name": "conda-env-gti770_env-py"
  },
  "language_info": {
   "codemirror_mode": {
    "name": "ipython",
    "version": 3
   },
   "file_extension": ".py",
   "mimetype": "text/x-python",
   "name": "python",
   "nbconvert_exporter": "python",
   "pygments_lexer": "ipython3",
   "version": "3.5.6"
  }
 },
 "nbformat": 4,
 "nbformat_minor": 2
}
